{
 "cells": [
  {
   "cell_type": "code",
   "execution_count": 1,
   "id": "9a568a9e",
   "metadata": {},
   "outputs": [
    {
     "data": {
      "application/vnd.jupyter.widget-view+json": {
       "model_id": "656dc504078d4185839415298290215f",
       "version_major": 2,
       "version_minor": 0
      },
      "text/plain": [
       "WebGuiWidget(value={'ngsolve_version': '6.2.2203', 'mesh_dim': 2, 'order2d': 2, 'order3d': 2, 'draw_vol': Fals…"
      ]
     },
     "metadata": {},
     "output_type": "display_data"
    },
    {
     "data": {
      "image/png": "[encoded data removed]",
      "text/plain": [
       "<Figure size 432x288 with 1 Axes>"
      ]
     },
     "metadata": {
      "needs_background": "light"
     },
     "output_type": "display_data"
    },
    {
     "name": "stdout",
     "output_type": "stream",
     "text": [
      "torsional rigidity = 35.98771580341495\n"
     ]
    }
   ],
   "source": [
    "# torsional rigidity\n",
    "# solve the Poisson equation -Delta u = f\n",
    "# with Dirichlet boundary condition u = 0\n",
    "\n",
    "from ngsolve import *\n",
    "import netgen.geom2d as geom2d\n",
    "from ngsolve.webgui import Draw\n",
    "\n",
    "ngsglobals.msg_level = 1\n",
    "\n",
    "geo = geom2d.SplineGeometry()\n",
    "p1,p2,p3,p4 = [ geo.AppendPoint(x,y) for x,y in [(-2,-2), (2,-2), (2,2), (-2,2)] ]\n",
    "geo.Append ([\"line\", p1, p2], leftdomain=1, rightdomain=0)\n",
    "geo.Append ([\"line\", p2, p3], leftdomain=1, rightdomain=0)\n",
    "geo.Append ([\"line\", p3, p4], leftdomain=1, rightdomain=0)\n",
    "geo.Append ([\"line\", p4, p1], leftdomain=1, rightdomain=0)\n",
    "        \n",
    "# generate a triangular mesh of mesh-size maxh\n",
    "mesh = Mesh(geo.GenerateMesh(maxh=0.05))\n",
    "\n",
    "# H1-conforming finite element space\n",
    "fes = H1(mesh, order=3, dirichlet=[1,2,3,4])\n",
    "\n",
    "# define trial- and test-functions\n",
    "u = fes.TrialFunction()\n",
    "v = fes.TestFunction()\n",
    "\n",
    "# define the coefficient function\n",
    "b = 1\n",
    "c = 2\n",
    "\n",
    "# the right hand side\n",
    "f = LinearForm(fes)\n",
    "f +=  c *v * dx\n",
    "\n",
    "# the bilinear-form \n",
    "a = BilinearForm(fes, symmetric=True)\n",
    "a += b*grad(u)*grad(v)*dx\n",
    "\n",
    "a.Assemble()\n",
    "f.Assemble()\n",
    "\n",
    "# the solution field \n",
    "gfu = GridFunction(fes)\n",
    "gfu.vec.data = a.mat.Inverse(fes.FreeDofs(), inverse=\"sparsecholesky\") * f.vec\n",
    "# print (u.vec)\n",
    "\n",
    "\n",
    "# plot the solution (netgen-gui only)\n",
    "Draw (gfu)\n",
    "#Draw (-grad(gfu), mesh, \"Flux\")\n",
    "\n",
    "# 2D plot\n",
    "import matplotlib.pyplot as plt\n",
    "N = 100\n",
    "ypnts = [i/N for i in range(-N, N+1, 1)]\n",
    "vals = [gfu(mesh(0,yi)) for yi in ypnts]\n",
    "\n",
    "plt.plot(ypnts,vals)\n",
    "plt.show(block=False)\n",
    "\n",
    "print (\"torsional rigidity =\", Integrate ( grad(gfu)*grad(gfu), mesh))\n"
   ]
  },
  {
   "cell_type": "code",
   "execution_count": 15,
   "id": "3d644e1e",
   "metadata": {
    "scrolled": false
   },
   "outputs": [
    {
     "name": "stdout",
     "output_type": "stream",
     "text": [
      "[35.9936, 35.5328, 0.9900990099009901]\n"
     ]
    }
   ],
   "source": [
    "import numpy as np\n",
    "M1 = 0.1406 *  4 ** 4\n",
    "M2 = 0.1388* 4**4\n",
    "t = 1/1.01\n",
    "print([M1, M2, t])\n",
    "\n"
   ]
  },
  {
   "cell_type": "code",
   "execution_count": 1,
   "id": "3896ab6b",
   "metadata": {
    "scrolled": false
   },
   "outputs": [
    {
     "data": {
      "application/vnd.jupyter.widget-view+json": {
       "model_id": "c4be6612565444de8186b1d2dcef373e",
       "version_major": 2,
       "version_minor": 0
      },
      "text/plain": [
       "WebGuiWidget(value={'ngsolve_version': '6.2.2203', 'mesh_dim': 2, 'order2d': 2, 'order3d': 2, 'draw_vol': Fals…"
      ]
     },
     "metadata": {},
     "output_type": "display_data"
    },
    {
     "data": {
      "application/vnd.jupyter.widget-view+json": {
       "model_id": "0abdc3a0931d44d1996fceb4d812aa8c",
       "version_major": 2,
       "version_minor": 0
      },
      "text/plain": [
       "WebGuiWidget(value={'ngsolve_version': '6.2.2203', 'mesh_dim': 2, 'order2d': 2, 'order3d': 2, 'draw_vol': Fals…"
      ]
     },
     "metadata": {},
     "output_type": "display_data"
    },
    {
     "data": {
      "application/vnd.jupyter.widget-view+json": {
       "model_id": "1c4c72c6c3a34f1d9889e67aa953a9b6",
       "version_major": 2,
       "version_minor": 0
      },
      "text/plain": [
       "WebGuiWidget(value={'ngsolve_version': '6.2.2203', 'mesh_dim': 2, 'order2d': 2, 'order3d': 2, 'draw_vol': Fals…"
      ]
     },
     "metadata": {},
     "output_type": "display_data"
    },
    {
     "name": "stdout",
     "output_type": "stream",
     "text": [
      "torsional rigidity = 35.972111800921475\n"
     ]
    }
   ],
   "source": [
    "# cell problem\n",
    "from ngsolve import *\n",
    "import netgen.geom2d as geom2d\n",
    "from ngsolve.webgui import Draw\n",
    "\n",
    "geo = geom2d.SplineGeometry()\n",
    "geo.AddCircle(c=(-0,0), r=1, bc=\"c\", leftdomain=2, rightdomain=1)\n",
    "geo.AddRectangle((-2,-2), (2,2), bcs=[\"b\",\"r\",\"t\",\"l\"], leftdomain=1)\n",
    "\n",
    "geo.SetMaterial(1, \"outer\")\n",
    "geo.SetMaterial(2, \"inner\")\n",
    "\n",
    "# generate a triangular mesh of mesh-size maxh\n",
    "mesh = Mesh(geo.GenerateMesh(maxh=0.05))\n",
    "\n",
    "fes1 = H1(mesh, definedon=\"inner\")\n",
    "u1 = GridFunction(fes1, \"u1\")\n",
    "u1.Set (1.01)\n",
    "\n",
    "fes2 = H1(mesh, definedon=\"outer\")\n",
    "u2 = GridFunction(fes2, \"u2\")\n",
    "u2.Set (1)\n",
    "\n",
    "\n",
    "fes = H1(mesh, order=3,dirichlet=\"b|l|r|t\")\n",
    "u = fes.TrialFunction()\n",
    "v = fes.TestFunction()\n",
    "\n",
    "gfu = GridFunction(fes)\n",
    "\n",
    "\n",
    "\n",
    "f = LinearForm(fes)\n",
    "f += 2*v*dx\n",
    "f.Assemble()\n",
    "\n",
    "a = BilinearForm(fes)\n",
    "a += SymbolicBFI (u1*grad(u)*grad(v), definedon=mesh.Materials(\"inner\"))\n",
    "a += SymbolicBFI (u2*grad(u)*grad(v), definedon=mesh.Materials(\"outer\"))\n",
    "a.Assemble()\n",
    "\n",
    "gfu.vec.data = a.mat.Inverse(fes.FreeDofs()) * f.vec\n",
    "\n",
    "sts = [-grad(gfu)[1], -grad(gfu)[0]]\n",
    "\n",
    "Draw (u1); Draw (u2)\n",
    "Draw (gfu)\n",
    "#Draw (sts, mesh, \"Flux\")\n",
    "\n",
    "print (\"torsional rigidity =\", Integrate ( u1*grad(gfu)*grad(gfu), mesh)+Integrate ( u2*grad(gfu)*grad(gfu), mesh))"
   ]
  },
  {
   "cell_type": "code",
   "execution_count": 9,
   "id": "d0e6ff6f",
   "metadata": {
    "scrolled": false
   },
   "outputs": [
    {
     "ename": "NameError",
     "evalue": "name 'u1' is not defined",
     "output_type": "error",
     "traceback": [
      "\u001b[1;31m---------------------------------------------------------------------------\u001b[0m",
      "\u001b[1;31mNameError\u001b[0m                                 Traceback (most recent call last)",
      "\u001b[1;32m~\\AppData\\Local\\Temp\\ipykernel_15196\\1772886189.py\u001b[0m in \u001b[0;36m<module>\u001b[1;34m\u001b[0m\n\u001b[0;32m     31\u001b[0m \u001b[0msts\u001b[0m \u001b[1;33m=\u001b[0m \u001b[1;33m[\u001b[0m\u001b[1;33m-\u001b[0m\u001b[0mgrad\u001b[0m\u001b[1;33m(\u001b[0m\u001b[0mgfu\u001b[0m\u001b[1;33m)\u001b[0m\u001b[1;33m[\u001b[0m\u001b[1;36m1\u001b[0m\u001b[1;33m]\u001b[0m\u001b[1;33m,\u001b[0m \u001b[1;33m-\u001b[0m\u001b[0mgrad\u001b[0m\u001b[1;33m(\u001b[0m\u001b[0mgfu\u001b[0m\u001b[1;33m)\u001b[0m\u001b[1;33m[\u001b[0m\u001b[1;36m0\u001b[0m\u001b[1;33m]\u001b[0m\u001b[1;33m]\u001b[0m\u001b[1;33m\u001b[0m\u001b[1;33m\u001b[0m\u001b[0m\n\u001b[0;32m     32\u001b[0m \u001b[1;33m\u001b[0m\u001b[0m\n\u001b[1;32m---> 33\u001b[1;33m \u001b[0mDraw\u001b[0m \u001b[1;33m(\u001b[0m\u001b[0mu1\u001b[0m\u001b[1;33m)\u001b[0m\u001b[1;33m;\u001b[0m \u001b[0mDraw\u001b[0m \u001b[1;33m(\u001b[0m\u001b[0mu2\u001b[0m\u001b[1;33m)\u001b[0m\u001b[1;33m\u001b[0m\u001b[1;33m\u001b[0m\u001b[0m\n\u001b[0m\u001b[0;32m     34\u001b[0m \u001b[0mDraw\u001b[0m \u001b[1;33m(\u001b[0m\u001b[0mgfu\u001b[0m\u001b[1;33m)\u001b[0m\u001b[1;33m\u001b[0m\u001b[1;33m\u001b[0m\u001b[0m\n\u001b[0;32m     35\u001b[0m \u001b[1;31m#Draw (sts, mesh, \"Flux\")\u001b[0m\u001b[1;33m\u001b[0m\u001b[1;33m\u001b[0m\u001b[1;33m\u001b[0m\u001b[0m\n",
      "\u001b[1;31mNameError\u001b[0m: name 'u1' is not defined"
     ]
    }
   ],
   "source": [
    "from ngsolve import *\n",
    "import netgen.geom2d as geom2d\n",
    "from ngsolve.webgui import Draw\n",
    "\n",
    "geo = geom2d.SplineGeometry()\n",
    "geo.AddCircle(c=(-0,0), r=1, bc=\"c\", leftdomain=2, rightdomain=1)\n",
    "geo.AddRectangle((-2,-2), (2,2), bcs=[\"b\",\"r\",\"t\",\"l\"], leftdomain=1)\n",
    "geo.SetMaterial(1, \"outer\")\n",
    "\n",
    "# generate a triangular mesh of mesh-size maxh\n",
    "mesh = Mesh(geo.GenerateMesh(maxh=0.05))\n",
    "\n",
    "fes = H1(mesh, order=3,dirichlet=\"b|l|r|t|c\", definedon=\"outer\")\n",
    "u = fes.TrialFunction()\n",
    "v = fes.TestFunction()\n",
    "\n",
    "gfu = GridFunction(fes)\n",
    "\n",
    "\n",
    "\n",
    "f = LinearForm(fes)\n",
    "f += 2*v*dx\n",
    "f.Assemble()\n",
    "\n",
    "a = BilinearForm(fes)\n",
    "a += u * v * dx\n",
    "a.Assemble()\n",
    "\n",
    "gfu.vec.data = a.mat.Inverse(fes.FreeDofs()) * f.vec\n",
    "\n",
    "sts = [-grad(gfu)[1], -grad(gfu)[0]]\n",
    "\n",
    "Draw (u1); Draw (u2)\n",
    "Draw (gfu)\n",
    "#Draw (sts, mesh, \"Flux\")\n",
    "\n",
    "print (\"torsional rigidity =\", Integrate ( grad(gfu)*grad(gfu), mesh))"
   ]
  },
  {
   "cell_type": "code",
   "execution_count": null,
   "id": "647d4cb9",
   "metadata": {},
   "outputs": [],
   "source": []
  }
 ],
 "metadata": {
  "kernelspec": {
   "display_name": "Python 3 (ipykernel)",
   "language": "python",
   "name": "python3"
  },
  "language_info": {
   "codemirror_mode": {
    "name": "ipython",
    "version": 3
   },
   "file_extension": ".py",
   "mimetype": "text/x-python",
   "name": "python",
   "nbconvert_exporter": "python",
   "pygments_lexer": "ipython3",
   "version": "3.7.9"
  }
 },
 "nbformat": 4,
 "nbformat_minor": 5
}
